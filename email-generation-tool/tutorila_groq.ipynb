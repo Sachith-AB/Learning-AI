{
 "cells": [
  {
   "cell_type": "code",
   "execution_count": 16,
   "id": "22328f22-0ab4-4ac7-9fc4-46d2fc00ff50",
   "metadata": {},
   "outputs": [],
   "source": [
    "from langchain_groq import ChatGroq\n",
    "\n",
    "llm = ChatGroq(\n",
    "    model_name=\"llama3-8b-8192\",\n",
    "    temperature=0,\n",
    "    groq_api_key=\"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\",\n",
    ")\n"
   ]
  },
  {
   "cell_type": "code",
   "execution_count": 17,
   "id": "6317099b-8323-4e90-a86a-078cb1805052",
   "metadata": {},
   "outputs": [],
   "source": [
    "from langchain_community.document_loaders import WebBaseLoader\n",
    "\n",
    "loader = WebBaseLoader(\"https://careers.nike.com/information-security-analyst-grc-itc/job/R-61563\")\n",
    "page_data = loader.load().pop().page_content"
   ]
  },
  {
   "cell_type": "code",
   "execution_count": 18,
   "id": "6211c0de-4500-4f25-a4b5-9d77a88e120f",
   "metadata": {},
   "outputs": [],
   "source": [
    "from langchain_core.prompts import PromptTemplate\n",
    "\n",
    "prompt_extract = PromptTemplate.from_template(\n",
    "    \"\"\"The following text is scraped from a company's careers page:\n",
    "\n",
    "    {page_data}\n",
    "\n",
    "    Your task is to extract all job postings and return each as a JSON object\n",
    "    with the following keys only:\n",
    "    - \"role\": The job title or role\n",
    "    - \"experience\": Required or preferred experience\n",
    "    - \"skills\": A list of required or preferred skills\n",
    "    \"\"\"\n",
    ")\n",
    "\n",
    "chain_extract = prompt_extract | llm\n",
    "res = chain_extract.invoke(input={'page_data':page_data})"
   ]
  },
  {
   "cell_type": "code",
   "execution_count": 35,
   "id": "96b9b2bf",
   "metadata": {},
   "outputs": [
    {
     "name": "stdout",
     "output_type": "stream",
     "text": [
      "[\n",
      "  {\n",
      "    \"id\": \"1\",\n",
      "    \"name\": \"Python\",\n",
      "    \"description\": \"High-level, interpreted, general-purpose programming language.\"\n",
      "  },\n",
      "  {\n",
      "    \"id\": \"2\",\n",
      "    \"name\": \"JavaScript\",\n",
      "    \"description\": \"Versatile language primarily used for web development.\"\n",
      "  },\n",
      "  {\n",
      "    \"id\": \"3\",\n",
      "    \"name\": \"Java\",\n",
      "    \"description\": \"Object-oriented programming language used for web, Android, and enterprise development.\"\n",
      "  },\n",
      "  {\n",
      "    \"id\": \"4\",\n",
      "    \"name\": \"C++\",\n",
      "    \"description\": \"Compiled, high-performance language with object-oriented features.\"\n",
      "  },\n",
      "  {\n",
      "    \"id\": \"5\",\n",
      "    \"name\": \"Go\",\n",
      "    \"description\": \"Statically typed language designed for simplicity and performance.\"\n",
      "  },\n",
      "  {\n",
      "    \"id\": \"6\",\n",
      "    \"name\": \"Rust\",\n",
      "    \"description\": \"Memory-safe, high-performance language without garbage collection.\"\n",
      "  },\n",
      "  {\n",
      "    \"id\": \"7\",\n",
      "    \"name\": \"Kotlin\",\n",
      "    \"description\": \"Modern programming language for Android and JVM development.\"\n",
      "  },\n",
      "  {\n",
      "    \"id\": \"8\",\n",
      "    \"name\": \"TypeScript\",\n",
      "    \"description\": \"Typed superset of JavaScript that compiles to plain JavaScript.\"\n",
      "  },\n",
      "  {\n",
      "    \"id\": \"9\",\n",
      "    \"name\": \"Ruby\",\n",
      "    \"description\": \"Dynamic, interpreted language known for simplicity and productivity.\"\n",
      "  },\n",
      "  {\n",
      "    \"id\": \"10\",\n",
      "    \"name\": \"Swift\",\n",
      "    \"description\": \"Modern language developed by Apple for iOS and macOS development.\"\n",
      "  }\n",
      "]\n"
     ]
    }
   ],
   "source": [
    "import chromadb\n",
    "import json\n",
    "\n",
    "client = chromadb.PersistentClient()\n",
    "collection = client.get_or_create_collection(name=\"tech-stack\")\n",
    "\n",
    "tech_languages = [\n",
    "    {\"id\": \"1\", \"name\": \"Python\", \"description\": \"High-level, interpreted, general-purpose programming language.\"},\n",
    "    {\"id\": \"2\", \"name\": \"JavaScript\", \"description\": \"Versatile language primarily used for web development.\"},\n",
    "    {\"id\": \"3\", \"name\": \"Java\", \"description\": \"Object-oriented programming language used for web, Android, and enterprise development.\"},\n",
    "    {\"id\": \"4\", \"name\": \"C++\", \"description\": \"Compiled, high-performance language with object-oriented features.\"},\n",
    "    {\"id\": \"5\", \"name\": \"Go\", \"description\": \"Statically typed language designed for simplicity and performance.\"},\n",
    "    {\"id\": \"6\", \"name\": \"Rust\", \"description\": \"Memory-safe, high-performance language without garbage collection.\"},\n",
    "    {\"id\": \"7\", \"name\": \"Kotlin\", \"description\": \"Modern programming language for Android and JVM development.\"},\n",
    "    {\"id\": \"8\", \"name\": \"TypeScript\", \"description\": \"Typed superset of JavaScript that compiles to plain JavaScript.\"},\n",
    "    {\"id\": \"9\", \"name\": \"Ruby\", \"description\": \"Dynamic, interpreted language known for simplicity and productivity.\"},\n",
    "    {\"id\": \"10\", \"name\": \"Swift\", \"description\": \"Modern language developed by Apple for iOS and macOS development.\"}\n",
    "]\n",
    "\n",
    "json_output = json.dumps(tech_languages, indent=2)\n",
    "\n",
    "# Print the JSON-formatted string\n",
    "print(json_output)\n",
    "\n",
    "\n"
   ]
  },
  {
   "cell_type": "code",
   "execution_count": 22,
   "id": "5fc17e06",
   "metadata": {},
   "outputs": [
    {
     "data": {
      "text/plain": [
       "{'ids': ['1', '2', '3', '4', '5', '6', '7', '8', '9', '10'],\n",
       " 'embeddings': None,\n",
       " 'documents': ['Python',\n",
       "  'JavaScript',\n",
       "  'Java',\n",
       "  'C++',\n",
       "  'Go',\n",
       "  'Rust',\n",
       "  'Kotlin',\n",
       "  'TypeScript',\n",
       "  'Ruby',\n",
       "  'Swift'],\n",
       " 'uris': None,\n",
       " 'included': ['metadatas', 'documents'],\n",
       " 'data': None,\n",
       " 'metadatas': [{'description': 'High-level, interpreted, general-purpose programming language.'},\n",
       "  {'description': 'Versatile language primarily used for web development.'},\n",
       "  {'description': 'Object-oriented programming language used for web, Android, and enterprise development.'},\n",
       "  {'description': 'Compiled, high-performance language with object-oriented features.'},\n",
       "  {'description': 'Statically typed language designed for simplicity and performance.'},\n",
       "  {'description': 'Memory-safe, high-performance language without garbage collection.'},\n",
       "  {'description': 'Modern programming language for Android and JVM development.'},\n",
       "  {'description': 'Typed superset of JavaScript that compiles to plain JavaScript.'},\n",
       "  {'description': 'Dynamic, interpreted language known for simplicity and productivity.'},\n",
       "  {'description': 'Modern language developed by Apple for iOS and macOS development.'}]}"
      ]
     },
     "execution_count": 22,
     "metadata": {},
     "output_type": "execute_result"
    }
   ],
   "source": [
    "collection.add(\n",
    "    ids=[item['id'] for item in tech_languages],\n",
    "    documents=[item['name'] for item in tech_languages],\n",
    "    metadatas=[{\"description\": item['description']} for item in tech_languages]\n",
    ")\n",
    "docs = collection.get()\n",
    "docs"
   ]
  },
  {
   "cell_type": "code",
   "execution_count": 32,
   "id": "332aad50",
   "metadata": {},
   "outputs": [
    {
     "data": {
      "text/plain": [
       "[[{'description': 'High-level, interpreted, general-purpose programming language.'},\n",
       "  {'description': 'Dynamic, interpreted language known for simplicity and productivity.'}]]"
      ]
     },
     "execution_count": 32,
     "metadata": {},
     "output_type": "execute_result"
    }
   ],
   "source": [
    "res = collection.query(\n",
    "    query_texts=['I need a python'],n_results=2\n",
    ")\n",
    "res['metadatas']"
   ]
  }
 ],
 "metadata": {
  "kernelspec": {
   "display_name": "Python 3",
   "language": "python",
   "name": "python3"
  },
  "language_info": {
   "codemirror_mode": {
    "name": "ipython",
    "version": 3
   },
   "file_extension": ".py",
   "mimetype": "text/x-python",
   "name": "python",
   "nbconvert_exporter": "python",
   "pygments_lexer": "ipython3",
   "version": "3.12.5"
  }
 },
 "nbformat": 4,
 "nbformat_minor": 5
}
